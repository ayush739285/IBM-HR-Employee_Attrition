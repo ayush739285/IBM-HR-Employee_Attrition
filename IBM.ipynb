{
 "cells": [
  {
   "cell_type": "markdown",
   "id": "32227645",
   "metadata": {
    "notebookRunGroups": {
     "groupValue": "2"
    }
   },
   "source": [
    "__IBM HR Analytics Employee Attriton__"
   ]
  },
  {
   "cell_type": "markdown",
   "id": "1f3cf9d9",
   "metadata": {
    "notebookRunGroups": {
     "groupValue": "1"
    }
   },
   "source": [
    "first we import the data csv file in the code"
   ]
  },
  {
   "cell_type": "code",
   "execution_count": 1,
   "id": "46097044",
   "metadata": {},
   "outputs": [],
   "source": [
    "import pandas as pd\n",
    "import numpy as np\n",
    "import matplotlib.pyplot as plt\n",
    "import seaborn as sns\n",
    "import math\n",
    "import random"
   ]
  },
  {
   "cell_type": "code",
   "execution_count": 2,
   "id": "e7c9b368",
   "metadata": {},
   "outputs": [
    {
     "data": {
      "application/vnd.microsoft.datawrangler.viewer.v0+json": {
       "columns": [
        {
         "name": "index",
         "rawType": "int64",
         "type": "integer"
        },
        {
         "name": "Age",
         "rawType": "int64",
         "type": "integer"
        },
        {
         "name": "Attrition",
         "rawType": "object",
         "type": "string"
        },
        {
         "name": "BusinessTravel",
         "rawType": "object",
         "type": "string"
        },
        {
         "name": "DailyRate",
         "rawType": "int64",
         "type": "integer"
        },
        {
         "name": "Department",
         "rawType": "object",
         "type": "string"
        },
        {
         "name": "DistanceFromHome",
         "rawType": "int64",
         "type": "integer"
        },
        {
         "name": "Education",
         "rawType": "int64",
         "type": "integer"
        },
        {
         "name": "EducationField",
         "rawType": "object",
         "type": "string"
        },
        {
         "name": "EmployeeCount",
         "rawType": "int64",
         "type": "integer"
        },
        {
         "name": "EmployeeNumber",
         "rawType": "int64",
         "type": "integer"
        },
        {
         "name": "EnvironmentSatisfaction",
         "rawType": "int64",
         "type": "integer"
        },
        {
         "name": "Gender",
         "rawType": "object",
         "type": "string"
        },
        {
         "name": "HourlyRate",
         "rawType": "int64",
         "type": "integer"
        },
        {
         "name": "JobInvolvement",
         "rawType": "int64",
         "type": "integer"
        },
        {
         "name": "JobLevel",
         "rawType": "int64",
         "type": "integer"
        },
        {
         "name": "JobRole",
         "rawType": "object",
         "type": "string"
        },
        {
         "name": "JobSatisfaction",
         "rawType": "int64",
         "type": "integer"
        },
        {
         "name": "MaritalStatus",
         "rawType": "object",
         "type": "string"
        },
        {
         "name": "MonthlyIncome",
         "rawType": "int64",
         "type": "integer"
        },
        {
         "name": "MonthlyRate",
         "rawType": "int64",
         "type": "integer"
        },
        {
         "name": "NumCompaniesWorked",
         "rawType": "int64",
         "type": "integer"
        },
        {
         "name": "Over18",
         "rawType": "object",
         "type": "string"
        },
        {
         "name": "OverTime",
         "rawType": "object",
         "type": "string"
        },
        {
         "name": "PercentSalaryHike",
         "rawType": "int64",
         "type": "integer"
        },
        {
         "name": "PerformanceRating",
         "rawType": "int64",
         "type": "integer"
        },
        {
         "name": "RelationshipSatisfaction",
         "rawType": "int64",
         "type": "integer"
        },
        {
         "name": "StandardHours",
         "rawType": "int64",
         "type": "integer"
        },
        {
         "name": "StockOptionLevel",
         "rawType": "int64",
         "type": "integer"
        },
        {
         "name": "TotalWorkingYears",
         "rawType": "int64",
         "type": "integer"
        },
        {
         "name": "TrainingTimesLastYear",
         "rawType": "int64",
         "type": "integer"
        },
        {
         "name": "WorkLifeBalance",
         "rawType": "int64",
         "type": "integer"
        },
        {
         "name": "YearsAtCompany",
         "rawType": "int64",
         "type": "integer"
        },
        {
         "name": "YearsInCurrentRole",
         "rawType": "int64",
         "type": "integer"
        },
        {
         "name": "YearsSinceLastPromotion",
         "rawType": "int64",
         "type": "integer"
        },
        {
         "name": "YearsWithCurrManager",
         "rawType": "int64",
         "type": "integer"
        }
       ],
       "ref": "6a80fcc3-e2d0-40ab-a997-1f4eadc6fb7b",
       "rows": [
        [
         "0",
         "41",
         "Yes",
         "Travel_Rarely",
         "1102",
         "Sales",
         "1",
         "2",
         "Life Sciences",
         "1",
         "1",
         "2",
         "Female",
         "94",
         "3",
         "2",
         "Sales Executive",
         "4",
         "Single",
         "5993",
         "19479",
         "8",
         "Y",
         "Yes",
         "11",
         "3",
         "1",
         "80",
         "0",
         "8",
         "0",
         "1",
         "6",
         "4",
         "0",
         "5"
        ],
        [
         "1",
         "49",
         "No",
         "Travel_Frequently",
         "279",
         "Research & Development",
         "8",
         "1",
         "Life Sciences",
         "1",
         "2",
         "3",
         "Male",
         "61",
         "2",
         "2",
         "Research Scientist",
         "2",
         "Married",
         "5130",
         "24907",
         "1",
         "Y",
         "No",
         "23",
         "4",
         "4",
         "80",
         "1",
         "10",
         "3",
         "3",
         "10",
         "7",
         "1",
         "7"
        ],
        [
         "2",
         "37",
         "Yes",
         "Travel_Rarely",
         "1373",
         "Research & Development",
         "2",
         "2",
         "Other",
         "1",
         "4",
         "4",
         "Male",
         "92",
         "2",
         "1",
         "Laboratory Technician",
         "3",
         "Single",
         "2090",
         "2396",
         "6",
         "Y",
         "Yes",
         "15",
         "3",
         "2",
         "80",
         "0",
         "7",
         "3",
         "3",
         "0",
         "0",
         "0",
         "0"
        ],
        [
         "3",
         "33",
         "No",
         "Travel_Frequently",
         "1392",
         "Research & Development",
         "3",
         "4",
         "Life Sciences",
         "1",
         "5",
         "4",
         "Female",
         "56",
         "3",
         "1",
         "Research Scientist",
         "3",
         "Married",
         "2909",
         "23159",
         "1",
         "Y",
         "Yes",
         "11",
         "3",
         "3",
         "80",
         "0",
         "8",
         "3",
         "3",
         "8",
         "7",
         "3",
         "0"
        ],
        [
         "4",
         "27",
         "No",
         "Travel_Rarely",
         "591",
         "Research & Development",
         "2",
         "1",
         "Medical",
         "1",
         "7",
         "1",
         "Male",
         "40",
         "3",
         "1",
         "Laboratory Technician",
         "2",
         "Married",
         "3468",
         "16632",
         "9",
         "Y",
         "No",
         "12",
         "3",
         "4",
         "80",
         "1",
         "6",
         "3",
         "3",
         "2",
         "2",
         "2",
         "2"
        ]
       ],
       "shape": {
        "columns": 35,
        "rows": 5
       }
      },
      "text/html": [
       "<div>\n",
       "<style scoped>\n",
       "    .dataframe tbody tr th:only-of-type {\n",
       "        vertical-align: middle;\n",
       "    }\n",
       "\n",
       "    .dataframe tbody tr th {\n",
       "        vertical-align: top;\n",
       "    }\n",
       "\n",
       "    .dataframe thead th {\n",
       "        text-align: right;\n",
       "    }\n",
       "</style>\n",
       "<table border=\"1\" class=\"dataframe\">\n",
       "  <thead>\n",
       "    <tr style=\"text-align: right;\">\n",
       "      <th></th>\n",
       "      <th>Age</th>\n",
       "      <th>Attrition</th>\n",
       "      <th>BusinessTravel</th>\n",
       "      <th>DailyRate</th>\n",
       "      <th>Department</th>\n",
       "      <th>DistanceFromHome</th>\n",
       "      <th>Education</th>\n",
       "      <th>EducationField</th>\n",
       "      <th>EmployeeCount</th>\n",
       "      <th>EmployeeNumber</th>\n",
       "      <th>...</th>\n",
       "      <th>RelationshipSatisfaction</th>\n",
       "      <th>StandardHours</th>\n",
       "      <th>StockOptionLevel</th>\n",
       "      <th>TotalWorkingYears</th>\n",
       "      <th>TrainingTimesLastYear</th>\n",
       "      <th>WorkLifeBalance</th>\n",
       "      <th>YearsAtCompany</th>\n",
       "      <th>YearsInCurrentRole</th>\n",
       "      <th>YearsSinceLastPromotion</th>\n",
       "      <th>YearsWithCurrManager</th>\n",
       "    </tr>\n",
       "  </thead>\n",
       "  <tbody>\n",
       "    <tr>\n",
       "      <th>0</th>\n",
       "      <td>41</td>\n",
       "      <td>Yes</td>\n",
       "      <td>Travel_Rarely</td>\n",
       "      <td>1102</td>\n",
       "      <td>Sales</td>\n",
       "      <td>1</td>\n",
       "      <td>2</td>\n",
       "      <td>Life Sciences</td>\n",
       "      <td>1</td>\n",
       "      <td>1</td>\n",
       "      <td>...</td>\n",
       "      <td>1</td>\n",
       "      <td>80</td>\n",
       "      <td>0</td>\n",
       "      <td>8</td>\n",
       "      <td>0</td>\n",
       "      <td>1</td>\n",
       "      <td>6</td>\n",
       "      <td>4</td>\n",
       "      <td>0</td>\n",
       "      <td>5</td>\n",
       "    </tr>\n",
       "    <tr>\n",
       "      <th>1</th>\n",
       "      <td>49</td>\n",
       "      <td>No</td>\n",
       "      <td>Travel_Frequently</td>\n",
       "      <td>279</td>\n",
       "      <td>Research &amp; Development</td>\n",
       "      <td>8</td>\n",
       "      <td>1</td>\n",
       "      <td>Life Sciences</td>\n",
       "      <td>1</td>\n",
       "      <td>2</td>\n",
       "      <td>...</td>\n",
       "      <td>4</td>\n",
       "      <td>80</td>\n",
       "      <td>1</td>\n",
       "      <td>10</td>\n",
       "      <td>3</td>\n",
       "      <td>3</td>\n",
       "      <td>10</td>\n",
       "      <td>7</td>\n",
       "      <td>1</td>\n",
       "      <td>7</td>\n",
       "    </tr>\n",
       "    <tr>\n",
       "      <th>2</th>\n",
       "      <td>37</td>\n",
       "      <td>Yes</td>\n",
       "      <td>Travel_Rarely</td>\n",
       "      <td>1373</td>\n",
       "      <td>Research &amp; Development</td>\n",
       "      <td>2</td>\n",
       "      <td>2</td>\n",
       "      <td>Other</td>\n",
       "      <td>1</td>\n",
       "      <td>4</td>\n",
       "      <td>...</td>\n",
       "      <td>2</td>\n",
       "      <td>80</td>\n",
       "      <td>0</td>\n",
       "      <td>7</td>\n",
       "      <td>3</td>\n",
       "      <td>3</td>\n",
       "      <td>0</td>\n",
       "      <td>0</td>\n",
       "      <td>0</td>\n",
       "      <td>0</td>\n",
       "    </tr>\n",
       "    <tr>\n",
       "      <th>3</th>\n",
       "      <td>33</td>\n",
       "      <td>No</td>\n",
       "      <td>Travel_Frequently</td>\n",
       "      <td>1392</td>\n",
       "      <td>Research &amp; Development</td>\n",
       "      <td>3</td>\n",
       "      <td>4</td>\n",
       "      <td>Life Sciences</td>\n",
       "      <td>1</td>\n",
       "      <td>5</td>\n",
       "      <td>...</td>\n",
       "      <td>3</td>\n",
       "      <td>80</td>\n",
       "      <td>0</td>\n",
       "      <td>8</td>\n",
       "      <td>3</td>\n",
       "      <td>3</td>\n",
       "      <td>8</td>\n",
       "      <td>7</td>\n",
       "      <td>3</td>\n",
       "      <td>0</td>\n",
       "    </tr>\n",
       "    <tr>\n",
       "      <th>4</th>\n",
       "      <td>27</td>\n",
       "      <td>No</td>\n",
       "      <td>Travel_Rarely</td>\n",
       "      <td>591</td>\n",
       "      <td>Research &amp; Development</td>\n",
       "      <td>2</td>\n",
       "      <td>1</td>\n",
       "      <td>Medical</td>\n",
       "      <td>1</td>\n",
       "      <td>7</td>\n",
       "      <td>...</td>\n",
       "      <td>4</td>\n",
       "      <td>80</td>\n",
       "      <td>1</td>\n",
       "      <td>6</td>\n",
       "      <td>3</td>\n",
       "      <td>3</td>\n",
       "      <td>2</td>\n",
       "      <td>2</td>\n",
       "      <td>2</td>\n",
       "      <td>2</td>\n",
       "    </tr>\n",
       "  </tbody>\n",
       "</table>\n",
       "<p>5 rows × 35 columns</p>\n",
       "</div>"
      ],
      "text/plain": [
       "   Age Attrition     BusinessTravel  DailyRate              Department  \\\n",
       "0   41       Yes      Travel_Rarely       1102                   Sales   \n",
       "1   49        No  Travel_Frequently        279  Research & Development   \n",
       "2   37       Yes      Travel_Rarely       1373  Research & Development   \n",
       "3   33        No  Travel_Frequently       1392  Research & Development   \n",
       "4   27        No      Travel_Rarely        591  Research & Development   \n",
       "\n",
       "   DistanceFromHome  Education EducationField  EmployeeCount  EmployeeNumber  \\\n",
       "0                 1          2  Life Sciences              1               1   \n",
       "1                 8          1  Life Sciences              1               2   \n",
       "2                 2          2          Other              1               4   \n",
       "3                 3          4  Life Sciences              1               5   \n",
       "4                 2          1        Medical              1               7   \n",
       "\n",
       "   ...  RelationshipSatisfaction StandardHours  StockOptionLevel  \\\n",
       "0  ...                         1            80                 0   \n",
       "1  ...                         4            80                 1   \n",
       "2  ...                         2            80                 0   \n",
       "3  ...                         3            80                 0   \n",
       "4  ...                         4            80                 1   \n",
       "\n",
       "   TotalWorkingYears  TrainingTimesLastYear WorkLifeBalance  YearsAtCompany  \\\n",
       "0                  8                      0               1               6   \n",
       "1                 10                      3               3              10   \n",
       "2                  7                      3               3               0   \n",
       "3                  8                      3               3               8   \n",
       "4                  6                      3               3               2   \n",
       "\n",
       "  YearsInCurrentRole  YearsSinceLastPromotion  YearsWithCurrManager  \n",
       "0                  4                        0                     5  \n",
       "1                  7                        1                     7  \n",
       "2                  0                        0                     0  \n",
       "3                  7                        3                     0  \n",
       "4                  2                        2                     2  \n",
       "\n",
       "[5 rows x 35 columns]"
      ]
     },
     "execution_count": 2,
     "metadata": {},
     "output_type": "execute_result"
    }
   ],
   "source": [
    "data = pd.read_csv('WA_Fn-UseC_-HR-Employee-Attrition.csv')\n",
    "data.head()"
   ]
  },
  {
   "cell_type": "markdown",
   "id": "f1a189df",
   "metadata": {},
   "source": [
    "- In Above columns , No. in Education mean"
   ]
  },
  {
   "cell_type": "markdown",
   "id": "23dcb79e",
   "metadata": {},
   "source": [
    "1 - 'Below College'\n",
    "\n",
    "2 - 'College'\n",
    "\n",
    "3 - 'Bachelor' \n",
    "\n",
    "4 - 'Master'\n",
    " \n",
    "5 - 'Doctor'"
   ]
  },
  {
   "cell_type": "markdown",
   "id": "850431de",
   "metadata": {},
   "source": [
    "- And other means,\n"
   ]
  },
  {
   "cell_type": "markdown",
   "id": "39b01c2b",
   "metadata": {},
   "source": [
    "1 - 'Low'\n",
    "\n",
    "2 - 'Medium'\n",
    "\n",
    "3 - 'High'\n",
    "\n",
    "4 - 'Very high'"
   ]
  },
  {
   "cell_type": "code",
   "execution_count": 3,
   "id": "479475cc",
   "metadata": {},
   "outputs": [
    {
     "data": {
      "text/plain": [
       "(1470, 35)"
      ]
     },
     "execution_count": 3,
     "metadata": {},
     "output_type": "execute_result"
    }
   ],
   "source": [
    "data.shape"
   ]
  },
  {
   "cell_type": "markdown",
   "id": "a9c5efce",
   "metadata": {},
   "source": [
    "- There will be 35 columns and 1470 rows."
   ]
  },
  {
   "cell_type": "markdown",
   "id": "bf8e1a74",
   "metadata": {},
   "source": [
    "__Now we check Numbers of duplicated data__"
   ]
  },
  {
   "cell_type": "code",
   "execution_count": 4,
   "id": "98d7c97b",
   "metadata": {},
   "outputs": [
    {
     "name": "stdout",
     "output_type": "stream",
     "text": [
      "NUmber of Duplicated data : 0\n"
     ]
    }
   ],
   "source": [
    "print(f'NUmber of Duplicated data : {data.duplicated().sum()}')"
   ]
  },
  {
   "cell_type": "markdown",
   "id": "f5f03965",
   "metadata": {},
   "source": [
    "__Check Missing Values__"
   ]
  },
  {
   "cell_type": "code",
   "execution_count": 5,
   "id": "e18318e8",
   "metadata": {},
   "outputs": [
    {
     "data": {
      "application/vnd.microsoft.datawrangler.viewer.v0+json": {
       "columns": [
        {
         "name": "index",
         "rawType": "object",
         "type": "string"
        },
        {
         "name": "0",
         "rawType": "int64",
         "type": "integer"
        }
       ],
       "ref": "1da79ef1-01c5-49b2-87e9-6cf63458fcf6",
       "rows": [
        [
         "Age",
         "0"
        ],
        [
         "Attrition",
         "0"
        ],
        [
         "BusinessTravel",
         "0"
        ],
        [
         "DailyRate",
         "0"
        ],
        [
         "Department",
         "0"
        ],
        [
         "DistanceFromHome",
         "0"
        ],
        [
         "Education",
         "0"
        ],
        [
         "EducationField",
         "0"
        ],
        [
         "EmployeeCount",
         "0"
        ],
        [
         "EmployeeNumber",
         "0"
        ],
        [
         "EnvironmentSatisfaction",
         "0"
        ],
        [
         "Gender",
         "0"
        ],
        [
         "HourlyRate",
         "0"
        ],
        [
         "JobInvolvement",
         "0"
        ],
        [
         "JobLevel",
         "0"
        ],
        [
         "JobRole",
         "0"
        ],
        [
         "JobSatisfaction",
         "0"
        ],
        [
         "MaritalStatus",
         "0"
        ],
        [
         "MonthlyIncome",
         "0"
        ],
        [
         "MonthlyRate",
         "0"
        ],
        [
         "NumCompaniesWorked",
         "0"
        ],
        [
         "Over18",
         "0"
        ],
        [
         "OverTime",
         "0"
        ],
        [
         "PercentSalaryHike",
         "0"
        ],
        [
         "PerformanceRating",
         "0"
        ],
        [
         "RelationshipSatisfaction",
         "0"
        ],
        [
         "StandardHours",
         "0"
        ],
        [
         "StockOptionLevel",
         "0"
        ],
        [
         "TotalWorkingYears",
         "0"
        ],
        [
         "TrainingTimesLastYear",
         "0"
        ],
        [
         "WorkLifeBalance",
         "0"
        ],
        [
         "YearsAtCompany",
         "0"
        ],
        [
         "YearsInCurrentRole",
         "0"
        ],
        [
         "YearsSinceLastPromotion",
         "0"
        ],
        [
         "YearsWithCurrManager",
         "0"
        ]
       ],
       "shape": {
        "columns": 1,
        "rows": 35
       }
      },
      "text/plain": [
       "Age                         0\n",
       "Attrition                   0\n",
       "BusinessTravel              0\n",
       "DailyRate                   0\n",
       "Department                  0\n",
       "DistanceFromHome            0\n",
       "Education                   0\n",
       "EducationField              0\n",
       "EmployeeCount               0\n",
       "EmployeeNumber              0\n",
       "EnvironmentSatisfaction     0\n",
       "Gender                      0\n",
       "HourlyRate                  0\n",
       "JobInvolvement              0\n",
       "JobLevel                    0\n",
       "JobRole                     0\n",
       "JobSatisfaction             0\n",
       "MaritalStatus               0\n",
       "MonthlyIncome               0\n",
       "MonthlyRate                 0\n",
       "NumCompaniesWorked          0\n",
       "Over18                      0\n",
       "OverTime                    0\n",
       "PercentSalaryHike           0\n",
       "PerformanceRating           0\n",
       "RelationshipSatisfaction    0\n",
       "StandardHours               0\n",
       "StockOptionLevel            0\n",
       "TotalWorkingYears           0\n",
       "TrainingTimesLastYear       0\n",
       "WorkLifeBalance             0\n",
       "YearsAtCompany              0\n",
       "YearsInCurrentRole          0\n",
       "YearsSinceLastPromotion     0\n",
       "YearsWithCurrManager        0\n",
       "dtype: int64"
      ]
     },
     "execution_count": 5,
     "metadata": {},
     "output_type": "execute_result"
    }
   ],
   "source": [
    "data.isnull().sum()"
   ]
  },
  {
   "cell_type": "code",
   "execution_count": 6,
   "id": "3cdc3498",
   "metadata": {},
   "outputs": [
    {
     "data": {
      "application/vnd.microsoft.datawrangler.viewer.v0+json": {
       "columns": [
        {
         "name": "index",
         "rawType": "object",
         "type": "string"
        },
        {
         "name": "0",
         "rawType": "object",
         "type": "unknown"
        }
       ],
       "ref": "5c0968b9-6df9-4cc0-a7bf-bc2c4eeeaafa",
       "rows": [
        [
         "Age",
         "int64"
        ],
        [
         "Attrition",
         "object"
        ],
        [
         "BusinessTravel",
         "object"
        ],
        [
         "DailyRate",
         "int64"
        ],
        [
         "Department",
         "object"
        ],
        [
         "DistanceFromHome",
         "int64"
        ],
        [
         "Education",
         "int64"
        ],
        [
         "EducationField",
         "object"
        ],
        [
         "EmployeeCount",
         "int64"
        ],
        [
         "EmployeeNumber",
         "int64"
        ],
        [
         "EnvironmentSatisfaction",
         "int64"
        ],
        [
         "Gender",
         "object"
        ],
        [
         "HourlyRate",
         "int64"
        ],
        [
         "JobInvolvement",
         "int64"
        ],
        [
         "JobLevel",
         "int64"
        ],
        [
         "JobRole",
         "object"
        ],
        [
         "JobSatisfaction",
         "int64"
        ],
        [
         "MaritalStatus",
         "object"
        ],
        [
         "MonthlyIncome",
         "int64"
        ],
        [
         "MonthlyRate",
         "int64"
        ],
        [
         "NumCompaniesWorked",
         "int64"
        ],
        [
         "Over18",
         "object"
        ],
        [
         "OverTime",
         "object"
        ],
        [
         "PercentSalaryHike",
         "int64"
        ],
        [
         "PerformanceRating",
         "int64"
        ],
        [
         "RelationshipSatisfaction",
         "int64"
        ],
        [
         "StandardHours",
         "int64"
        ],
        [
         "StockOptionLevel",
         "int64"
        ],
        [
         "TotalWorkingYears",
         "int64"
        ],
        [
         "TrainingTimesLastYear",
         "int64"
        ],
        [
         "WorkLifeBalance",
         "int64"
        ],
        [
         "YearsAtCompany",
         "int64"
        ],
        [
         "YearsInCurrentRole",
         "int64"
        ],
        [
         "YearsSinceLastPromotion",
         "int64"
        ],
        [
         "YearsWithCurrManager",
         "int64"
        ]
       ],
       "shape": {
        "columns": 1,
        "rows": 35
       }
      },
      "text/plain": [
       "Age                          int64\n",
       "Attrition                   object\n",
       "BusinessTravel              object\n",
       "DailyRate                    int64\n",
       "Department                  object\n",
       "DistanceFromHome             int64\n",
       "Education                    int64\n",
       "EducationField              object\n",
       "EmployeeCount                int64\n",
       "EmployeeNumber               int64\n",
       "EnvironmentSatisfaction      int64\n",
       "Gender                      object\n",
       "HourlyRate                   int64\n",
       "JobInvolvement               int64\n",
       "JobLevel                     int64\n",
       "JobRole                     object\n",
       "JobSatisfaction              int64\n",
       "MaritalStatus               object\n",
       "MonthlyIncome                int64\n",
       "MonthlyRate                  int64\n",
       "NumCompaniesWorked           int64\n",
       "Over18                      object\n",
       "OverTime                    object\n",
       "PercentSalaryHike            int64\n",
       "PerformanceRating            int64\n",
       "RelationshipSatisfaction     int64\n",
       "StandardHours                int64\n",
       "StockOptionLevel             int64\n",
       "TotalWorkingYears            int64\n",
       "TrainingTimesLastYear        int64\n",
       "WorkLifeBalance              int64\n",
       "YearsAtCompany               int64\n",
       "YearsInCurrentRole           int64\n",
       "YearsSinceLastPromotion      int64\n",
       "YearsWithCurrManager         int64\n",
       "dtype: object"
      ]
     },
     "execution_count": 6,
     "metadata": {},
     "output_type": "execute_result"
    }
   ],
   "source": [
    "data.dtypes"
   ]
  },
  {
   "cell_type": "code",
   "execution_count": 7,
   "id": "a5390823",
   "metadata": {},
   "outputs": [
    {
     "data": {
      "application/vnd.microsoft.datawrangler.viewer.v0+json": {
       "columns": [
        {
         "name": "index",
         "rawType": "object",
         "type": "string"
        },
        {
         "name": "Age",
         "rawType": "float64",
         "type": "float"
        },
        {
         "name": "DailyRate",
         "rawType": "float64",
         "type": "float"
        },
        {
         "name": "DistanceFromHome",
         "rawType": "float64",
         "type": "float"
        },
        {
         "name": "Education",
         "rawType": "float64",
         "type": "float"
        },
        {
         "name": "EmployeeCount",
         "rawType": "float64",
         "type": "float"
        },
        {
         "name": "EmployeeNumber",
         "rawType": "float64",
         "type": "float"
        },
        {
         "name": "EnvironmentSatisfaction",
         "rawType": "float64",
         "type": "float"
        },
        {
         "name": "HourlyRate",
         "rawType": "float64",
         "type": "float"
        },
        {
         "name": "JobInvolvement",
         "rawType": "float64",
         "type": "float"
        },
        {
         "name": "JobLevel",
         "rawType": "float64",
         "type": "float"
        },
        {
         "name": "JobSatisfaction",
         "rawType": "float64",
         "type": "float"
        },
        {
         "name": "MonthlyIncome",
         "rawType": "float64",
         "type": "float"
        },
        {
         "name": "MonthlyRate",
         "rawType": "float64",
         "type": "float"
        },
        {
         "name": "NumCompaniesWorked",
         "rawType": "float64",
         "type": "float"
        },
        {
         "name": "PercentSalaryHike",
         "rawType": "float64",
         "type": "float"
        },
        {
         "name": "PerformanceRating",
         "rawType": "float64",
         "type": "float"
        },
        {
         "name": "RelationshipSatisfaction",
         "rawType": "float64",
         "type": "float"
        },
        {
         "name": "StandardHours",
         "rawType": "float64",
         "type": "float"
        },
        {
         "name": "StockOptionLevel",
         "rawType": "float64",
         "type": "float"
        },
        {
         "name": "TotalWorkingYears",
         "rawType": "float64",
         "type": "float"
        },
        {
         "name": "TrainingTimesLastYear",
         "rawType": "float64",
         "type": "float"
        },
        {
         "name": "WorkLifeBalance",
         "rawType": "float64",
         "type": "float"
        },
        {
         "name": "YearsAtCompany",
         "rawType": "float64",
         "type": "float"
        },
        {
         "name": "YearsInCurrentRole",
         "rawType": "float64",
         "type": "float"
        },
        {
         "name": "YearsSinceLastPromotion",
         "rawType": "float64",
         "type": "float"
        },
        {
         "name": "YearsWithCurrManager",
         "rawType": "float64",
         "type": "float"
        }
       ],
       "ref": "d39795ab-647a-4463-9c99-a783a454aeb4",
       "rows": [
        [
         "count",
         "1470.0",
         "1470.0",
         "1470.0",
         "1470.0",
         "1470.0",
         "1470.0",
         "1470.0",
         "1470.0",
         "1470.0",
         "1470.0",
         "1470.0",
         "1470.0",
         "1470.0",
         "1470.0",
         "1470.0",
         "1470.0",
         "1470.0",
         "1470.0",
         "1470.0",
         "1470.0",
         "1470.0",
         "1470.0",
         "1470.0",
         "1470.0",
         "1470.0",
         "1470.0"
        ],
        [
         "mean",
         "36.923809523809524",
         "802.4857142857143",
         "9.19251700680272",
         "2.912925170068027",
         "1.0",
         "1024.865306122449",
         "2.721768707482993",
         "65.89115646258503",
         "2.7299319727891156",
         "2.0639455782312925",
         "2.7285714285714286",
         "6502.931292517007",
         "14313.103401360544",
         "2.6931972789115646",
         "15.209523809523809",
         "3.1537414965986397",
         "2.7122448979591836",
         "80.0",
         "0.7938775510204081",
         "11.279591836734694",
         "2.7993197278911564",
         "2.7612244897959184",
         "7.0081632653061225",
         "4.229251700680272",
         "2.1877551020408164",
         "4.12312925170068"
        ],
        [
         "std",
         "9.135373489136732",
         "403.50909994352816",
         "8.106864435666074",
         "1.0241649445978729",
         "0.0",
         "602.0243348474751",
         "1.0930822146350005",
         "20.329427593996165",
         "0.7115611429632304",
         "1.106939898935122",
         "1.1028461230547204",
         "4707.956783097994",
         "7117.786044059976",
         "2.498009006070747",
         "3.6599377165396407",
         "0.36082352460434397",
         "1.0812088864403524",
         "0.0",
         "0.852076667930838",
         "7.780781675514997",
         "1.2892706207958455",
         "0.7064758297141507",
         "6.126525152403569",
         "3.623137034670628",
         "3.222430279137967",
         "3.5681361205404376"
        ],
        [
         "min",
         "18.0",
         "102.0",
         "1.0",
         "1.0",
         "1.0",
         "1.0",
         "1.0",
         "30.0",
         "1.0",
         "1.0",
         "1.0",
         "1009.0",
         "2094.0",
         "0.0",
         "11.0",
         "3.0",
         "1.0",
         "80.0",
         "0.0",
         "0.0",
         "0.0",
         "1.0",
         "0.0",
         "0.0",
         "0.0",
         "0.0"
        ],
        [
         "25%",
         "30.0",
         "465.0",
         "2.0",
         "2.0",
         "1.0",
         "491.25",
         "2.0",
         "48.0",
         "2.0",
         "1.0",
         "2.0",
         "2911.0",
         "8047.0",
         "1.0",
         "12.0",
         "3.0",
         "2.0",
         "80.0",
         "0.0",
         "6.0",
         "2.0",
         "2.0",
         "3.0",
         "2.0",
         "0.0",
         "2.0"
        ],
        [
         "50%",
         "36.0",
         "802.0",
         "7.0",
         "3.0",
         "1.0",
         "1020.5",
         "3.0",
         "66.0",
         "3.0",
         "2.0",
         "3.0",
         "4919.0",
         "14235.5",
         "2.0",
         "14.0",
         "3.0",
         "3.0",
         "80.0",
         "1.0",
         "10.0",
         "3.0",
         "3.0",
         "5.0",
         "3.0",
         "1.0",
         "3.0"
        ],
        [
         "75%",
         "43.0",
         "1157.0",
         "14.0",
         "4.0",
         "1.0",
         "1555.75",
         "4.0",
         "83.75",
         "3.0",
         "3.0",
         "4.0",
         "8379.0",
         "20461.5",
         "4.0",
         "18.0",
         "3.0",
         "4.0",
         "80.0",
         "1.0",
         "15.0",
         "3.0",
         "3.0",
         "9.0",
         "7.0",
         "3.0",
         "7.0"
        ],
        [
         "max",
         "60.0",
         "1499.0",
         "29.0",
         "5.0",
         "1.0",
         "2068.0",
         "4.0",
         "100.0",
         "4.0",
         "5.0",
         "4.0",
         "19999.0",
         "26999.0",
         "9.0",
         "25.0",
         "4.0",
         "4.0",
         "80.0",
         "3.0",
         "40.0",
         "6.0",
         "4.0",
         "40.0",
         "18.0",
         "15.0",
         "17.0"
        ]
       ],
       "shape": {
        "columns": 26,
        "rows": 8
       }
      },
      "text/html": [
       "<div>\n",
       "<style scoped>\n",
       "    .dataframe tbody tr th:only-of-type {\n",
       "        vertical-align: middle;\n",
       "    }\n",
       "\n",
       "    .dataframe tbody tr th {\n",
       "        vertical-align: top;\n",
       "    }\n",
       "\n",
       "    .dataframe thead th {\n",
       "        text-align: right;\n",
       "    }\n",
       "</style>\n",
       "<table border=\"1\" class=\"dataframe\">\n",
       "  <thead>\n",
       "    <tr style=\"text-align: right;\">\n",
       "      <th></th>\n",
       "      <th>Age</th>\n",
       "      <th>DailyRate</th>\n",
       "      <th>DistanceFromHome</th>\n",
       "      <th>Education</th>\n",
       "      <th>EmployeeCount</th>\n",
       "      <th>EmployeeNumber</th>\n",
       "      <th>EnvironmentSatisfaction</th>\n",
       "      <th>HourlyRate</th>\n",
       "      <th>JobInvolvement</th>\n",
       "      <th>JobLevel</th>\n",
       "      <th>...</th>\n",
       "      <th>RelationshipSatisfaction</th>\n",
       "      <th>StandardHours</th>\n",
       "      <th>StockOptionLevel</th>\n",
       "      <th>TotalWorkingYears</th>\n",
       "      <th>TrainingTimesLastYear</th>\n",
       "      <th>WorkLifeBalance</th>\n",
       "      <th>YearsAtCompany</th>\n",
       "      <th>YearsInCurrentRole</th>\n",
       "      <th>YearsSinceLastPromotion</th>\n",
       "      <th>YearsWithCurrManager</th>\n",
       "    </tr>\n",
       "  </thead>\n",
       "  <tbody>\n",
       "    <tr>\n",
       "      <th>count</th>\n",
       "      <td>1470.000000</td>\n",
       "      <td>1470.000000</td>\n",
       "      <td>1470.000000</td>\n",
       "      <td>1470.000000</td>\n",
       "      <td>1470.0</td>\n",
       "      <td>1470.000000</td>\n",
       "      <td>1470.000000</td>\n",
       "      <td>1470.000000</td>\n",
       "      <td>1470.000000</td>\n",
       "      <td>1470.000000</td>\n",
       "      <td>...</td>\n",
       "      <td>1470.000000</td>\n",
       "      <td>1470.0</td>\n",
       "      <td>1470.000000</td>\n",
       "      <td>1470.000000</td>\n",
       "      <td>1470.000000</td>\n",
       "      <td>1470.000000</td>\n",
       "      <td>1470.000000</td>\n",
       "      <td>1470.000000</td>\n",
       "      <td>1470.000000</td>\n",
       "      <td>1470.000000</td>\n",
       "    </tr>\n",
       "    <tr>\n",
       "      <th>mean</th>\n",
       "      <td>36.923810</td>\n",
       "      <td>802.485714</td>\n",
       "      <td>9.192517</td>\n",
       "      <td>2.912925</td>\n",
       "      <td>1.0</td>\n",
       "      <td>1024.865306</td>\n",
       "      <td>2.721769</td>\n",
       "      <td>65.891156</td>\n",
       "      <td>2.729932</td>\n",
       "      <td>2.063946</td>\n",
       "      <td>...</td>\n",
       "      <td>2.712245</td>\n",
       "      <td>80.0</td>\n",
       "      <td>0.793878</td>\n",
       "      <td>11.279592</td>\n",
       "      <td>2.799320</td>\n",
       "      <td>2.761224</td>\n",
       "      <td>7.008163</td>\n",
       "      <td>4.229252</td>\n",
       "      <td>2.187755</td>\n",
       "      <td>4.123129</td>\n",
       "    </tr>\n",
       "    <tr>\n",
       "      <th>std</th>\n",
       "      <td>9.135373</td>\n",
       "      <td>403.509100</td>\n",
       "      <td>8.106864</td>\n",
       "      <td>1.024165</td>\n",
       "      <td>0.0</td>\n",
       "      <td>602.024335</td>\n",
       "      <td>1.093082</td>\n",
       "      <td>20.329428</td>\n",
       "      <td>0.711561</td>\n",
       "      <td>1.106940</td>\n",
       "      <td>...</td>\n",
       "      <td>1.081209</td>\n",
       "      <td>0.0</td>\n",
       "      <td>0.852077</td>\n",
       "      <td>7.780782</td>\n",
       "      <td>1.289271</td>\n",
       "      <td>0.706476</td>\n",
       "      <td>6.126525</td>\n",
       "      <td>3.623137</td>\n",
       "      <td>3.222430</td>\n",
       "      <td>3.568136</td>\n",
       "    </tr>\n",
       "    <tr>\n",
       "      <th>min</th>\n",
       "      <td>18.000000</td>\n",
       "      <td>102.000000</td>\n",
       "      <td>1.000000</td>\n",
       "      <td>1.000000</td>\n",
       "      <td>1.0</td>\n",
       "      <td>1.000000</td>\n",
       "      <td>1.000000</td>\n",
       "      <td>30.000000</td>\n",
       "      <td>1.000000</td>\n",
       "      <td>1.000000</td>\n",
       "      <td>...</td>\n",
       "      <td>1.000000</td>\n",
       "      <td>80.0</td>\n",
       "      <td>0.000000</td>\n",
       "      <td>0.000000</td>\n",
       "      <td>0.000000</td>\n",
       "      <td>1.000000</td>\n",
       "      <td>0.000000</td>\n",
       "      <td>0.000000</td>\n",
       "      <td>0.000000</td>\n",
       "      <td>0.000000</td>\n",
       "    </tr>\n",
       "    <tr>\n",
       "      <th>25%</th>\n",
       "      <td>30.000000</td>\n",
       "      <td>465.000000</td>\n",
       "      <td>2.000000</td>\n",
       "      <td>2.000000</td>\n",
       "      <td>1.0</td>\n",
       "      <td>491.250000</td>\n",
       "      <td>2.000000</td>\n",
       "      <td>48.000000</td>\n",
       "      <td>2.000000</td>\n",
       "      <td>1.000000</td>\n",
       "      <td>...</td>\n",
       "      <td>2.000000</td>\n",
       "      <td>80.0</td>\n",
       "      <td>0.000000</td>\n",
       "      <td>6.000000</td>\n",
       "      <td>2.000000</td>\n",
       "      <td>2.000000</td>\n",
       "      <td>3.000000</td>\n",
       "      <td>2.000000</td>\n",
       "      <td>0.000000</td>\n",
       "      <td>2.000000</td>\n",
       "    </tr>\n",
       "    <tr>\n",
       "      <th>50%</th>\n",
       "      <td>36.000000</td>\n",
       "      <td>802.000000</td>\n",
       "      <td>7.000000</td>\n",
       "      <td>3.000000</td>\n",
       "      <td>1.0</td>\n",
       "      <td>1020.500000</td>\n",
       "      <td>3.000000</td>\n",
       "      <td>66.000000</td>\n",
       "      <td>3.000000</td>\n",
       "      <td>2.000000</td>\n",
       "      <td>...</td>\n",
       "      <td>3.000000</td>\n",
       "      <td>80.0</td>\n",
       "      <td>1.000000</td>\n",
       "      <td>10.000000</td>\n",
       "      <td>3.000000</td>\n",
       "      <td>3.000000</td>\n",
       "      <td>5.000000</td>\n",
       "      <td>3.000000</td>\n",
       "      <td>1.000000</td>\n",
       "      <td>3.000000</td>\n",
       "    </tr>\n",
       "    <tr>\n",
       "      <th>75%</th>\n",
       "      <td>43.000000</td>\n",
       "      <td>1157.000000</td>\n",
       "      <td>14.000000</td>\n",
       "      <td>4.000000</td>\n",
       "      <td>1.0</td>\n",
       "      <td>1555.750000</td>\n",
       "      <td>4.000000</td>\n",
       "      <td>83.750000</td>\n",
       "      <td>3.000000</td>\n",
       "      <td>3.000000</td>\n",
       "      <td>...</td>\n",
       "      <td>4.000000</td>\n",
       "      <td>80.0</td>\n",
       "      <td>1.000000</td>\n",
       "      <td>15.000000</td>\n",
       "      <td>3.000000</td>\n",
       "      <td>3.000000</td>\n",
       "      <td>9.000000</td>\n",
       "      <td>7.000000</td>\n",
       "      <td>3.000000</td>\n",
       "      <td>7.000000</td>\n",
       "    </tr>\n",
       "    <tr>\n",
       "      <th>max</th>\n",
       "      <td>60.000000</td>\n",
       "      <td>1499.000000</td>\n",
       "      <td>29.000000</td>\n",
       "      <td>5.000000</td>\n",
       "      <td>1.0</td>\n",
       "      <td>2068.000000</td>\n",
       "      <td>4.000000</td>\n",
       "      <td>100.000000</td>\n",
       "      <td>4.000000</td>\n",
       "      <td>5.000000</td>\n",
       "      <td>...</td>\n",
       "      <td>4.000000</td>\n",
       "      <td>80.0</td>\n",
       "      <td>3.000000</td>\n",
       "      <td>40.000000</td>\n",
       "      <td>6.000000</td>\n",
       "      <td>4.000000</td>\n",
       "      <td>40.000000</td>\n",
       "      <td>18.000000</td>\n",
       "      <td>15.000000</td>\n",
       "      <td>17.000000</td>\n",
       "    </tr>\n",
       "  </tbody>\n",
       "</table>\n",
       "<p>8 rows × 26 columns</p>\n",
       "</div>"
      ],
      "text/plain": [
       "               Age    DailyRate  DistanceFromHome    Education  EmployeeCount  \\\n",
       "count  1470.000000  1470.000000       1470.000000  1470.000000         1470.0   \n",
       "mean     36.923810   802.485714          9.192517     2.912925            1.0   \n",
       "std       9.135373   403.509100          8.106864     1.024165            0.0   \n",
       "min      18.000000   102.000000          1.000000     1.000000            1.0   \n",
       "25%      30.000000   465.000000          2.000000     2.000000            1.0   \n",
       "50%      36.000000   802.000000          7.000000     3.000000            1.0   \n",
       "75%      43.000000  1157.000000         14.000000     4.000000            1.0   \n",
       "max      60.000000  1499.000000         29.000000     5.000000            1.0   \n",
       "\n",
       "       EmployeeNumber  EnvironmentSatisfaction   HourlyRate  JobInvolvement  \\\n",
       "count     1470.000000              1470.000000  1470.000000     1470.000000   \n",
       "mean      1024.865306                 2.721769    65.891156        2.729932   \n",
       "std        602.024335                 1.093082    20.329428        0.711561   \n",
       "min          1.000000                 1.000000    30.000000        1.000000   \n",
       "25%        491.250000                 2.000000    48.000000        2.000000   \n",
       "50%       1020.500000                 3.000000    66.000000        3.000000   \n",
       "75%       1555.750000                 4.000000    83.750000        3.000000   \n",
       "max       2068.000000                 4.000000   100.000000        4.000000   \n",
       "\n",
       "          JobLevel  ...  RelationshipSatisfaction  StandardHours  \\\n",
       "count  1470.000000  ...               1470.000000         1470.0   \n",
       "mean      2.063946  ...                  2.712245           80.0   \n",
       "std       1.106940  ...                  1.081209            0.0   \n",
       "min       1.000000  ...                  1.000000           80.0   \n",
       "25%       1.000000  ...                  2.000000           80.0   \n",
       "50%       2.000000  ...                  3.000000           80.0   \n",
       "75%       3.000000  ...                  4.000000           80.0   \n",
       "max       5.000000  ...                  4.000000           80.0   \n",
       "\n",
       "       StockOptionLevel  TotalWorkingYears  TrainingTimesLastYear  \\\n",
       "count       1470.000000        1470.000000            1470.000000   \n",
       "mean           0.793878          11.279592               2.799320   \n",
       "std            0.852077           7.780782               1.289271   \n",
       "min            0.000000           0.000000               0.000000   \n",
       "25%            0.000000           6.000000               2.000000   \n",
       "50%            1.000000          10.000000               3.000000   \n",
       "75%            1.000000          15.000000               3.000000   \n",
       "max            3.000000          40.000000               6.000000   \n",
       "\n",
       "       WorkLifeBalance  YearsAtCompany  YearsInCurrentRole  \\\n",
       "count      1470.000000     1470.000000         1470.000000   \n",
       "mean          2.761224        7.008163            4.229252   \n",
       "std           0.706476        6.126525            3.623137   \n",
       "min           1.000000        0.000000            0.000000   \n",
       "25%           2.000000        3.000000            2.000000   \n",
       "50%           3.000000        5.000000            3.000000   \n",
       "75%           3.000000        9.000000            7.000000   \n",
       "max           4.000000       40.000000           18.000000   \n",
       "\n",
       "       YearsSinceLastPromotion  YearsWithCurrManager  \n",
       "count              1470.000000           1470.000000  \n",
       "mean                  2.187755              4.123129  \n",
       "std                   3.222430              3.568136  \n",
       "min                   0.000000              0.000000  \n",
       "25%                   0.000000              2.000000  \n",
       "50%                   1.000000              3.000000  \n",
       "75%                   3.000000              7.000000  \n",
       "max                  15.000000             17.000000  \n",
       "\n",
       "[8 rows x 26 columns]"
      ]
     },
     "execution_count": 7,
     "metadata": {},
     "output_type": "execute_result"
    }
   ],
   "source": [
    "data.describe()"
   ]
  },
  {
   "cell_type": "markdown",
   "id": "cbff76f5",
   "metadata": {},
   "source": [
    "__Attrition Rate__"
   ]
  },
  {
   "cell_type": "code",
   "execution_count": 8,
   "id": "3dd59ace",
   "metadata": {},
   "outputs": [
    {
     "data": {
      "application/vnd.microsoft.datawrangler.viewer.v0+json": {
       "columns": [
        {
         "name": "Attrition",
         "rawType": "object",
         "type": "string"
        },
        {
         "name": "proportion",
         "rawType": "float64",
         "type": "float"
        }
       ],
       "ref": "73fb1f9e-d080-42bb-b3ff-0518220ef2d8",
       "rows": [
        [
         "No",
         "83.88"
        ],
        [
         "Yes",
         "16.12"
        ]
       ],
       "shape": {
        "columns": 1,
        "rows": 2
       }
      },
      "text/plain": [
       "Attrition\n",
       "No     83.88\n",
       "Yes    16.12\n",
       "Name: proportion, dtype: float64"
      ]
     },
     "execution_count": 8,
     "metadata": {},
     "output_type": "execute_result"
    }
   ],
   "source": [
    "round((data['Attrition'].value_counts(normalize=True)*100),2)"
   ]
  },
  {
   "cell_type": "markdown",
   "id": "852a0b77",
   "metadata": {},
   "source": [
    "Here  the attriton rate will be show , now we visualize this,"
   ]
  },
  {
   "cell_type": "code",
   "execution_count": 9,
   "id": "be8afe35",
   "metadata": {},
   "outputs": [
    {
     "data": {
      "image/png": "[encoded data removed]",
      "text/plain": [
       "<Figure size 800x700 with 1 Axes>"
      ]
     },
     "metadata": {},
     "output_type": "display_data"
    }
   ],
   "source": [
    "attrition = data['Attrition'].value_counts(normalize=True)*100\n",
    "plt.figure(figsize=(8,7))\n",
    "ax = sns.barplot(x=attrition.index, y=attrition)\n",
    "for p in ax.patches:\n",
    "    ax.annotate(f'{p.get_height():.2f}',(p.get_x() + p.get_width() / 2.,\n",
    "                                            p.get_height()),ha='center', va='bottom')\n",
    "plt.title('Distribution of Attrition Rate')\n",
    "plt.xlabel('Attrition')\n",
    "plt.ylabel('Percentage')\n",
    "plt.tight_layout()\n",
    "plt.show()\n"
   ]
  },
  {
   "cell_type": "markdown",
   "id": "4a848453",
   "metadata": {},
   "source": [
    "- Based on analysis, the company attriton rate is 16.12%.\n",
    "That mean 16.12% of employee decided to leave the company."
   ]
  },
  {
   "cell_type": "markdown",
   "id": "abf01a61",
   "metadata": {},
   "source": [
    "__Now we check the Avg tenure__"
   ]
  },
  {
   "cell_type": "code",
   "execution_count": 10,
   "id": "0d556e4b",
   "metadata": {},
   "outputs": [
    {
     "name": "stdout",
     "output_type": "stream",
     "text": [
      "Averege Tenure of Employee in Company is 7.01 Years\n"
     ]
    }
   ],
   "source": [
    "print(f'Averege Tenure of Employee in Company is {data[\"YearsAtCompany\"].mean():.2f} Years')"
   ]
  },
  {
   "cell_type": "markdown",
   "id": "2821750b",
   "metadata": {},
   "source": [
    "- There Avg Tenure is 7.01 years. with this Avg Tenure ,it can be concluded that many employees feel comfortable and have been with company for a long time."
   ]
  },
  {
   "cell_type": "markdown",
   "id": "0d34535d",
   "metadata": {},
   "source": [
    "__Employees Demographics__"
   ]
  },
  {
   "cell_type": "code",
   "execution_count": 11,
   "id": "5ee0e300",
   "metadata": {},
   "outputs": [
    {
     "data": {
      "image/png": "[encoded data removed]",
      "text/plain": [
       "<Figure size 800x700 with 1 Axes>"
      ]
     },
     "metadata": {},
     "output_type": "display_data"
    }
   ],
   "source": [
    "plt.figure(figsize=(8,7))\n",
    "sns.histplot(data=data, x='Age', kde=True,)\n",
    "plt.title('Distribution Employee by Age')\n",
    "plt.xlabel('Age')\n",
    "plt.ylabel('Count')\n",
    "plt.tight_layout()\n",
    "plt.show()"
   ]
  },
  {
   "cell_type": "markdown",
   "id": "82a63f26",
   "metadata": {},
   "source": [
    "- Most of the company employees are in the 28-40 age group.This indicates that the company has many employees who are experinced age."
   ]
  },
  {
   "cell_type": "code",
   "execution_count": 12,
   "id": "06fcb065",
   "metadata": {},
   "outputs": [
    {
     "data": {
      "image/png": "[encoded data removed]",
      "text/plain": [
       "<Figure size 800x700 with 1 Axes>"
      ]
     },
     "metadata": {},
     "output_type": "display_data"
    }
   ],
   "source": [
    "plt.figure(figsize=(8,7))\n",
    "sns.countplot(data=data, x='Gender')\n",
    "plt.title('Distribution Employee by Gender')\n",
    "plt.xlabel('Gender')\n",
    "plt.ylabel('Count')\n",
    "plt.tight_layout()\n",
    "plt.show()"
   ]
  },
  {
   "cell_type": "markdown",
   "id": "e9201d79",
   "metadata": {},
   "source": [
    "- The majority of employees at this company are male, There are significantly more male employees than female employees."
   ]
  },
  {
   "cell_type": "code",
   "execution_count": 13,
   "id": "f53a311c",
   "metadata": {},
   "outputs": [
    {
     "data": {
      "image/png": "[encoded data removed]",
      "text/plain": [
       "<Figure size 800x700 with 1 Axes>"
      ]
     },
     "metadata": {},
     "output_type": "display_data"
    }
   ],
   "source": [
    "plt.figure(figsize=(8,7))\n",
    "sns.countplot(data=data, x='Department')\n",
    "plt.title('Distribution Employee by Department')\n",
    "plt.xlabel('Department')\n",
    "plt.ylabel('Count')\n",
    "plt.tight_layout()\n",
    "plt.show()"
   ]
  },
  {
   "cell_type": "markdown",
   "id": "98c0ef6f",
   "metadata": {},
   "source": [
    "- Most of the comapny's employees are concentrated in Research & Development Department. This Indicates that company is focused on product or service research and development activities. "
   ]
  },
  {
   "cell_type": "code",
   "execution_count": 14,
   "id": "47ae9340",
   "metadata": {},
   "outputs": [
    {
     "data": {
      "application/vnd.microsoft.datawrangler.viewer.v0+json": {
       "columns": [
        {
         "name": "index",
         "rawType": "int64",
         "type": "integer"
        },
        {
         "name": "Age",
         "rawType": "int64",
         "type": "integer"
        },
        {
         "name": "Attrition",
         "rawType": "object",
         "type": "string"
        },
        {
         "name": "BusinessTravel",
         "rawType": "object",
         "type": "string"
        },
        {
         "name": "DailyRate",
         "rawType": "int64",
         "type": "integer"
        },
        {
         "name": "Department",
         "rawType": "object",
         "type": "string"
        },
        {
         "name": "DistanceFromHome",
         "rawType": "int64",
         "type": "integer"
        },
        {
         "name": "Education",
         "rawType": "int64",
         "type": "integer"
        },
        {
         "name": "EducationField",
         "rawType": "object",
         "type": "string"
        },
        {
         "name": "EmployeeCount",
         "rawType": "int64",
         "type": "integer"
        },
        {
         "name": "EmployeeNumber",
         "rawType": "int64",
         "type": "integer"
        },
        {
         "name": "EnvironmentSatisfaction",
         "rawType": "int64",
         "type": "integer"
        },
        {
         "name": "Gender",
         "rawType": "object",
         "type": "string"
        },
        {
         "name": "HourlyRate",
         "rawType": "int64",
         "type": "integer"
        },
        {
         "name": "JobInvolvement",
         "rawType": "int64",
         "type": "integer"
        },
        {
         "name": "JobLevel",
         "rawType": "int64",
         "type": "integer"
        },
        {
         "name": "JobRole",
         "rawType": "object",
         "type": "string"
        },
        {
         "name": "JobSatisfaction",
         "rawType": "int64",
         "type": "integer"
        },
        {
         "name": "MaritalStatus",
         "rawType": "object",
         "type": "string"
        },
        {
         "name": "MonthlyIncome",
         "rawType": "int64",
         "type": "integer"
        },
        {
         "name": "MonthlyRate",
         "rawType": "int64",
         "type": "integer"
        },
        {
         "name": "NumCompaniesWorked",
         "rawType": "int64",
         "type": "integer"
        },
        {
         "name": "Over18",
         "rawType": "object",
         "type": "string"
        },
        {
         "name": "OverTime",
         "rawType": "object",
         "type": "string"
        },
        {
         "name": "PercentSalaryHike",
         "rawType": "int64",
         "type": "integer"
        },
        {
         "name": "PerformanceRating",
         "rawType": "int64",
         "type": "integer"
        },
        {
         "name": "RelationshipSatisfaction",
         "rawType": "int64",
         "type": "integer"
        },
        {
         "name": "StandardHours",
         "rawType": "int64",
         "type": "integer"
        },
        {
         "name": "StockOptionLevel",
         "rawType": "int64",
         "type": "integer"
        },
        {
         "name": "TotalWorkingYears",
         "rawType": "int64",
         "type": "integer"
        },
        {
         "name": "TrainingTimesLastYear",
         "rawType": "int64",
         "type": "integer"
        },
        {
         "name": "WorkLifeBalance",
         "rawType": "int64",
         "type": "integer"
        },
        {
         "name": "YearsAtCompany",
         "rawType": "int64",
         "type": "integer"
        },
        {
         "name": "YearsInCurrentRole",
         "rawType": "int64",
         "type": "integer"
        },
        {
         "name": "YearsSinceLastPromotion",
         "rawType": "int64",
         "type": "integer"
        },
        {
         "name": "YearsWithCurrManager",
         "rawType": "int64",
         "type": "integer"
        }
       ],
       "ref": "c9254838-8884-43ff-b605-d60f7efb33ff",
       "rows": [
        [
         "0",
         "41",
         "Yes",
         "Travel_Rarely",
         "1102",
         "Sales",
         "1",
         "2",
         "Life Sciences",
         "1",
         "1",
         "2",
         "Female",
         "94",
         "3",
         "2",
         "Sales Executive",
         "4",
         "Single",
         "5993",
         "19479",
         "8",
         "Y",
         "Yes",
         "11",
         "3",
         "1",
         "80",
         "0",
         "8",
         "0",
         "1",
         "6",
         "4",
         "0",
         "5"
        ],
        [
         "2",
         "37",
         "Yes",
         "Travel_Rarely",
         "1373",
         "Research & Development",
         "2",
         "2",
         "Other",
         "1",
         "4",
         "4",
         "Male",
         "92",
         "2",
         "1",
         "Laboratory Technician",
         "3",
         "Single",
         "2090",
         "2396",
         "6",
         "Y",
         "Yes",
         "15",
         "3",
         "2",
         "80",
         "0",
         "7",
         "3",
         "3",
         "0",
         "0",
         "0",
         "0"
        ],
        [
         "14",
         "28",
         "Yes",
         "Travel_Rarely",
         "103",
         "Research & Development",
         "24",
         "3",
         "Life Sciences",
         "1",
         "19",
         "3",
         "Male",
         "50",
         "2",
         "1",
         "Laboratory Technician",
         "3",
         "Single",
         "2028",
         "12947",
         "5",
         "Y",
         "Yes",
         "14",
         "3",
         "2",
         "80",
         "0",
         "6",
         "4",
         "3",
         "4",
         "2",
         "0",
         "3"
        ],
        [
         "21",
         "36",
         "Yes",
         "Travel_Rarely",
         "1218",
         "Sales",
         "9",
         "4",
         "Life Sciences",
         "1",
         "27",
         "3",
         "Male",
         "82",
         "2",
         "1",
         "Sales Representative",
         "1",
         "Single",
         "3407",
         "6986",
         "7",
         "Y",
         "No",
         "23",
         "4",
         "2",
         "80",
         "0",
         "10",
         "4",
         "3",
         "5",
         "3",
         "0",
         "3"
        ],
        [
         "24",
         "34",
         "Yes",
         "Travel_Rarely",
         "699",
         "Research & Development",
         "6",
         "1",
         "Medical",
         "1",
         "31",
         "2",
         "Male",
         "83",
         "3",
         "1",
         "Research Scientist",
         "1",
         "Single",
         "2960",
         "17102",
         "2",
         "Y",
         "No",
         "11",
         "3",
         "3",
         "80",
         "0",
         "8",
         "2",
         "3",
         "4",
         "2",
         "1",
         "3"
        ]
       ],
       "shape": {
        "columns": 35,
        "rows": 5
       }
      },
      "text/html": [
       "<div>\n",
       "<style scoped>\n",
       "    .dataframe tbody tr th:only-of-type {\n",
       "        vertical-align: middle;\n",
       "    }\n",
       "\n",
       "    .dataframe tbody tr th {\n",
       "        vertical-align: top;\n",
       "    }\n",
       "\n",
       "    .dataframe thead th {\n",
       "        text-align: right;\n",
       "    }\n",
       "</style>\n",
       "<table border=\"1\" class=\"dataframe\">\n",
       "  <thead>\n",
       "    <tr style=\"text-align: right;\">\n",
       "      <th></th>\n",
       "      <th>Age</th>\n",
       "      <th>Attrition</th>\n",
       "      <th>BusinessTravel</th>\n",
       "      <th>DailyRate</th>\n",
       "      <th>Department</th>\n",
       "      <th>DistanceFromHome</th>\n",
       "      <th>Education</th>\n",
       "      <th>EducationField</th>\n",
       "      <th>EmployeeCount</th>\n",
       "      <th>EmployeeNumber</th>\n",
       "      <th>...</th>\n",
       "      <th>RelationshipSatisfaction</th>\n",
       "      <th>StandardHours</th>\n",
       "      <th>StockOptionLevel</th>\n",
       "      <th>TotalWorkingYears</th>\n",
       "      <th>TrainingTimesLastYear</th>\n",
       "      <th>WorkLifeBalance</th>\n",
       "      <th>YearsAtCompany</th>\n",
       "      <th>YearsInCurrentRole</th>\n",
       "      <th>YearsSinceLastPromotion</th>\n",
       "      <th>YearsWithCurrManager</th>\n",
       "    </tr>\n",
       "  </thead>\n",
       "  <tbody>\n",
       "    <tr>\n",
       "      <th>0</th>\n",
       "      <td>41</td>\n",
       "      <td>Yes</td>\n",
       "      <td>Travel_Rarely</td>\n",
       "      <td>1102</td>\n",
       "      <td>Sales</td>\n",
       "      <td>1</td>\n",
       "      <td>2</td>\n",
       "      <td>Life Sciences</td>\n",
       "      <td>1</td>\n",
       "      <td>1</td>\n",
       "      <td>...</td>\n",
       "      <td>1</td>\n",
       "      <td>80</td>\n",
       "      <td>0</td>\n",
       "      <td>8</td>\n",
       "      <td>0</td>\n",
       "      <td>1</td>\n",
       "      <td>6</td>\n",
       "      <td>4</td>\n",
       "      <td>0</td>\n",
       "      <td>5</td>\n",
       "    </tr>\n",
       "    <tr>\n",
       "      <th>2</th>\n",
       "      <td>37</td>\n",
       "      <td>Yes</td>\n",
       "      <td>Travel_Rarely</td>\n",
       "      <td>1373</td>\n",
       "      <td>Research &amp; Development</td>\n",
       "      <td>2</td>\n",
       "      <td>2</td>\n",
       "      <td>Other</td>\n",
       "      <td>1</td>\n",
       "      <td>4</td>\n",
       "      <td>...</td>\n",
       "      <td>2</td>\n",
       "      <td>80</td>\n",
       "      <td>0</td>\n",
       "      <td>7</td>\n",
       "      <td>3</td>\n",
       "      <td>3</td>\n",
       "      <td>0</td>\n",
       "      <td>0</td>\n",
       "      <td>0</td>\n",
       "      <td>0</td>\n",
       "    </tr>\n",
       "    <tr>\n",
       "      <th>14</th>\n",
       "      <td>28</td>\n",
       "      <td>Yes</td>\n",
       "      <td>Travel_Rarely</td>\n",
       "      <td>103</td>\n",
       "      <td>Research &amp; Development</td>\n",
       "      <td>24</td>\n",
       "      <td>3</td>\n",
       "      <td>Life Sciences</td>\n",
       "      <td>1</td>\n",
       "      <td>19</td>\n",
       "      <td>...</td>\n",
       "      <td>2</td>\n",
       "      <td>80</td>\n",
       "      <td>0</td>\n",
       "      <td>6</td>\n",
       "      <td>4</td>\n",
       "      <td>3</td>\n",
       "      <td>4</td>\n",
       "      <td>2</td>\n",
       "      <td>0</td>\n",
       "      <td>3</td>\n",
       "    </tr>\n",
       "    <tr>\n",
       "      <th>21</th>\n",
       "      <td>36</td>\n",
       "      <td>Yes</td>\n",
       "      <td>Travel_Rarely</td>\n",
       "      <td>1218</td>\n",
       "      <td>Sales</td>\n",
       "      <td>9</td>\n",
       "      <td>4</td>\n",
       "      <td>Life Sciences</td>\n",
       "      <td>1</td>\n",
       "      <td>27</td>\n",
       "      <td>...</td>\n",
       "      <td>2</td>\n",
       "      <td>80</td>\n",
       "      <td>0</td>\n",
       "      <td>10</td>\n",
       "      <td>4</td>\n",
       "      <td>3</td>\n",
       "      <td>5</td>\n",
       "      <td>3</td>\n",
       "      <td>0</td>\n",
       "      <td>3</td>\n",
       "    </tr>\n",
       "    <tr>\n",
       "      <th>24</th>\n",
       "      <td>34</td>\n",
       "      <td>Yes</td>\n",
       "      <td>Travel_Rarely</td>\n",
       "      <td>699</td>\n",
       "      <td>Research &amp; Development</td>\n",
       "      <td>6</td>\n",
       "      <td>1</td>\n",
       "      <td>Medical</td>\n",
       "      <td>1</td>\n",
       "      <td>31</td>\n",
       "      <td>...</td>\n",
       "      <td>3</td>\n",
       "      <td>80</td>\n",
       "      <td>0</td>\n",
       "      <td>8</td>\n",
       "      <td>2</td>\n",
       "      <td>3</td>\n",
       "      <td>4</td>\n",
       "      <td>2</td>\n",
       "      <td>1</td>\n",
       "      <td>3</td>\n",
       "    </tr>\n",
       "  </tbody>\n",
       "</table>\n",
       "<p>5 rows × 35 columns</p>\n",
       "</div>"
      ],
      "text/plain": [
       "    Age Attrition BusinessTravel  DailyRate              Department  \\\n",
       "0    41       Yes  Travel_Rarely       1102                   Sales   \n",
       "2    37       Yes  Travel_Rarely       1373  Research & Development   \n",
       "14   28       Yes  Travel_Rarely        103  Research & Development   \n",
       "21   36       Yes  Travel_Rarely       1218                   Sales   \n",
       "24   34       Yes  Travel_Rarely        699  Research & Development   \n",
       "\n",
       "    DistanceFromHome  Education EducationField  EmployeeCount  EmployeeNumber  \\\n",
       "0                  1          2  Life Sciences              1               1   \n",
       "2                  2          2          Other              1               4   \n",
       "14                24          3  Life Sciences              1              19   \n",
       "21                 9          4  Life Sciences              1              27   \n",
       "24                 6          1        Medical              1              31   \n",
       "\n",
       "    ...  RelationshipSatisfaction StandardHours  StockOptionLevel  \\\n",
       "0   ...                         1            80                 0   \n",
       "2   ...                         2            80                 0   \n",
       "14  ...                         2            80                 0   \n",
       "21  ...                         2            80                 0   \n",
       "24  ...                         3            80                 0   \n",
       "\n",
       "    TotalWorkingYears  TrainingTimesLastYear WorkLifeBalance  YearsAtCompany  \\\n",
       "0                   8                      0               1               6   \n",
       "2                   7                      3               3               0   \n",
       "14                  6                      4               3               4   \n",
       "21                 10                      4               3               5   \n",
       "24                  8                      2               3               4   \n",
       "\n",
       "   YearsInCurrentRole  YearsSinceLastPromotion  YearsWithCurrManager  \n",
       "0                   4                        0                     5  \n",
       "2                   0                        0                     0  \n",
       "14                  2                        0                     3  \n",
       "21                  3                        0                     3  \n",
       "24                  2                        1                     3  \n",
       "\n",
       "[5 rows x 35 columns]"
      ]
     },
     "execution_count": 14,
     "metadata": {},
     "output_type": "execute_result"
    }
   ],
   "source": [
    "df_attrition = data[data['Attrition']=='Yes']\n",
    "df_attrition.head()"
   ]
  },
  {
   "cell_type": "markdown",
   "id": "6bda12b9",
   "metadata": {},
   "source": [
    "- This Will be new df_attrition table of 235 rows , where Attrition will be 'yes'."
   ]
  },
  {
   "cell_type": "code",
   "execution_count": 15,
   "id": "2a3b9453",
   "metadata": {},
   "outputs": [],
   "source": [
    "def calculate_attrition_rate(data, column):\n",
    "    attrition_counts = data.groupby([column, 'Attrition']).size().unstack(fill_value=0)\n",
    "    attrition_rate = attrition_counts['Yes'] / attrition_counts.sum(axis=1) * 100\n",
    "    attrition_rate_df = attrition_rate.reset_index()\n",
    "    attrition_rate_df.columns = [column, 'AttritionRate']\n",
    "    return attrition_rate_df"
   ]
  },
  {
   "cell_type": "code",
   "execution_count": 16,
   "id": "8789777f",
   "metadata": {},
   "outputs": [
    {
     "data": {
      "text/plain": [
       "Text(0, 0.5, 'Density')"
      ]
     },
     "execution_count": 16,
     "metadata": {},
     "output_type": "execute_result"
    },
    {
     "data": {
      "image/png": "[encoded data removed]",
      "text/plain": [
       "<Figure size 1500x1000 with 1 Axes>"
      ]
     },
     "metadata": {},
     "output_type": "display_data"
    }
   ],
   "source": [
    "plt.figure(figsize=(15,10))\n",
    "sns.kdeplot(data=df_attrition, x='Age', fill=True)\n",
    "plt.title('Distribution of Age for Employees who Left the Company')\n",
    "plt.xlabel('Age')\n",
    "plt.ylabel('Density')"
   ]
  },
  {
   "cell_type": "code",
   "execution_count": 17,
   "id": "935091d5",
   "metadata": {},
   "outputs": [
    {
     "data": {
      "image/png": "[encoded data removed]",
      "text/plain": [
       "<Figure size 1500x1000 with 1 Axes>"
      ]
     },
     "metadata": {},
     "output_type": "display_data"
    }
   ],
   "source": [
    "# Calculate attrition rate by Gender\n",
    "gender_attrition_rate = calculate_attrition_rate(data, 'Gender')\n",
    "\n",
    "plt.figure(figsize=(15,10))\n",
    "sns.barplot(data=gender_attrition_rate, x='Gender', y='AttritionRate')\n",
    "plt.title('Distribution of Gender-wise Attrition Rate')\n",
    "plt.xlabel('Gender')\n",
    "plt.ylabel('Attrition Rate (%)')\n",
    "plt.tight_layout()\n",
    "plt.show()"
   ]
  },
  {
   "cell_type": "code",
   "execution_count": 18,
   "id": "7c17af27",
   "metadata": {},
   "outputs": [
    {
     "data": {
      "text/plain": [
       "Text(0, 0.5, 'Density')"
      ]
     },
     "execution_count": 18,
     "metadata": {},
     "output_type": "execute_result"
    },
    {
     "data": {
      "image/png": "[encoded data removed]",
      "text/plain": [
       "<Figure size 1500x1000 with 1 Axes>"
      ]
     },
     "metadata": {},
     "output_type": "display_data"
    }
   ],
   "source": [
    "plt.figure(figsize=(15,10))\n",
    "sns.histplot(data=df_attrition, x='JobSatisfaction')\n",
    "plt.title('Distribution of Job Satisfaction of Employees who Left the Company')\n",
    "plt.xlabel('Age')\n",
    "plt.ylabel('Density')"
   ]
  },
  {
   "cell_type": "markdown",
   "id": "eb6b1529",
   "metadata": {},
   "source": [
    "- here not any role of job satisaction in attrition in the company.\n",
    "\n",
    "- At the age of 30 Attrition rate will be high as comaprission to other age group.\n",
    "\n",
    "- At the Gender , Both will approx same to each other , but Male Attrition is higher then the Female Atrrition."
   ]
  },
  {
   "cell_type": "markdown",
   "id": "9c41cb05",
   "metadata": {},
   "source": [
    "__Role of Salary__"
   ]
  },
  {
   "cell_type": "code",
   "execution_count": 19,
   "id": "d7a73481",
   "metadata": {},
   "outputs": [
    {
     "name": "stderr",
     "output_type": "stream",
     "text": [
      "C:\\Users\\ayush\\AppData\\Local\\Temp\\ipykernel_3552\\957470536.py:2: FutureWarning: The default of observed=False is deprecated and will be changed to True in a future version of pandas. Pass observed=False to retain current behavior or observed=True to adopt the future default and silence this warning.\n",
      "  attrition_counts = data.groupby([column, 'Attrition']).size().unstack(fill_value=0)\n"
     ]
    },
    {
     "data": {
      "image/png": "[encoded data removed]",
      "text/plain": [
       "<Figure size 1000x600 with 1 Axes>"
      ]
     },
     "metadata": {},
     "output_type": "display_data"
    },
    {
     "data": {
      "image/png": "[encoded data removed]",
      "text/plain": [
       "<Figure size 1000x600 with 1 Axes>"
      ]
     },
     "metadata": {},
     "output_type": "display_data"
    }
   ],
   "source": [
    "# create income bands (adjust edges/labels as needed)\n",
    "edges = [0, 3000, 6000, 9000, 12000, data['MonthlyIncome'].max()+1]\n",
    "labels = ['Very Low', 'Low', 'Medium', 'High', 'Very High']\n",
    "data['IncomeBand'] = pd.cut(data['MonthlyIncome'], bins=edges, labels=labels, include_lowest=True)\n",
    "\n",
    "# compute attrition rate per band\n",
    "income_attrition = calculate_attrition_rate(data, 'IncomeBand')\n",
    "\n",
    "# plot bar chart with annotations\n",
    "plt.figure(figsize=(10,6))\n",
    "ax = sns.barplot(data=income_attrition, x='IncomeBand', y='AttritionRate', order=labels)\n",
    "ax.set_title('Attrition Rate by Income Band')\n",
    "ax.set_xlabel('Income Band')\n",
    "ax.set_ylabel('Attrition Rate (%)')\n",
    "for p in ax.patches:\n",
    "    ax.annotate(f'{p.get_height():.2f}%', (p.get_x() + p.get_width() / 2., p.get_height()), \n",
    "                ha='center', va='bottom')\n",
    "plt.tight_layout()\n",
    "plt.show()\n",
    "\n",
    "# complementary views: boxplot of MonthlyIncome by Attrition and mean incomes\n",
    "plt.figure(figsize=(10,6))\n",
    "sns.boxplot(data=data, x='Attrition', y='MonthlyIncome')\n",
    "plt.title('Monthly Income distribution by Attrition')\n",
    "plt.tight_layout()\n",
    "plt.show()"
   ]
  },
  {
   "cell_type": "markdown",
   "id": "43014bd3",
   "metadata": {},
   "source": [
    "- As Comparision in income band by 5 level . very low, low , medium, high , very high.\n",
    "\n",
    "- At the Very low band , the Attrition percent will be high at 28.61%.\n",
    "\n",
    "- And At very high band , the Attrition rate percent is less which is 5.64%."
   ]
  },
  {
   "cell_type": "code",
   "execution_count": 20,
   "id": "839e039c",
   "metadata": {},
   "outputs": [
    {
     "name": "stdout",
     "output_type": "stream",
     "text": [
      "Group stats (count, mean, median, std):\n",
      "           count     mean  median      std\n",
      "Attrition                                 \n",
      "No          1233  6832.74  5204.0  4818.21\n",
      "Yes          237  4787.09  3202.0  3640.21\n",
      "\n",
      "Shapiro normality p-values:\n",
      "Yes 1.5025414983521328e-17\n",
      "No 4.220031262351636e-23\n",
      "\n",
      "Welch t-test: t = -7.483, p = 0.0000\n",
      "Mann-Whitney U: stat = 100620.500, p = 0.0000\n",
      "Cohen's d (Yes - No): -0.440\n",
      "Point-biserial r = -0.160, p = 0.0000\n",
      "\n",
      "                  Coef.  Std.Err.         z         P>|z|    [0.025    0.975]\n",
      "const         -0.929109  0.129202 -7.191107  6.426821e-13 -1.182341 -0.675877\n",
      "MonthlyIncome -0.000127  0.000022 -5.879297  4.120115e-09 -0.000169 -0.000085\n",
      "\n",
      "Odds ratios:\n",
      "const            0.3949\n",
      "MonthlyIncome    0.9999\n",
      "dtype: float64\n"
     ]
    },
    {
     "data": {
      "image/png": "[encoded data removed]",
      "text/plain": [
       "<Figure size 1000x500 with 1 Axes>"
      ]
     },
     "metadata": {},
     "output_type": "display_data"
    }
   ],
   "source": [
    "# Analyze role of MonthlyIncome in attrition: means, tests, effect size, logistic regression, plots\n",
    "import numpy as np\n",
    "from scipy import stats\n",
    "import statsmodels.api as sm\n",
    "\n",
    "# prepare data\n",
    "data = data.copy()\n",
    "data = data.dropna(subset=['MonthlyIncome', 'Attrition'])\n",
    "y_bin = (data['Attrition'] == 'Yes').astype(int)\n",
    "x = data['MonthlyIncome']\n",
    "\n",
    "# Group stats\n",
    "print(\"Group stats (count, mean, median, std):\")\n",
    "print(data.groupby('Attrition')['MonthlyIncome'].agg(['count','mean','median','std']).round(2))\n",
    "print()\n",
    "\n",
    "# Normality quick check (Shapiro on each group - small samples only)\n",
    "print(\"Shapiro normality p-values:\")\n",
    "for label in ['Yes','No']:\n",
    "    grp = data.loc[data['Attrition']==label, 'MonthlyIncome']\n",
    "    print(label, stats.shapiro(grp.sample(min(len(grp),500), random_state=0))[1])\n",
    "print()\n",
    "\n",
    "# Two-sample test (Welch t-test) and non-parametric check\n",
    "yes_income = data.loc[data['Attrition']=='Yes', 'MonthlyIncome']\n",
    "no_income  = data.loc[data['Attrition']=='No',  'MonthlyIncome']\n",
    "tstat, tp = stats.ttest_ind(yes_income, no_income, equal_var=False, nan_policy='omit')\n",
    "mw_stat, mw_p = stats.mannwhitneyu(yes_income, no_income, alternative='two-sided')\n",
    "print(f\"Welch t-test: t = {tstat:.3f}, p = {tp:.4f}\")\n",
    "print(f\"Mann-Whitney U: stat = {mw_stat:.3f}, p = {mw_p:.4f}\")\n",
    "\n",
    "# Cohen's d (effect size)\n",
    "def cohens_d(a,b):\n",
    "    na, nb = len(a), len(b)\n",
    "    sa, sb = a.std(ddof=1), b.std(ddof=1)\n",
    "    pooled = np.sqrt(((na-1)*sa**2 + (nb-1)*sb**2) / (na+nb-2))\n",
    "    return (a.mean() - b.mean()) / pooled\n",
    "print(f\"Cohen's d (Yes - No): {cohens_d(yes_income, no_income):.3f}\")\n",
    "\n",
    "# Point-biserial correlation\n",
    "try:\n",
    "    from scipy.stats import pointbiserialr\n",
    "    r, r_p = pointbiserialr(y_bin, x)\n",
    "    print(f\"Point-biserial r = {r:.3f}, p = {r_p:.4f}\")\n",
    "except Exception:\n",
    "    pass\n",
    "\n",
    "# Simple logistic regression (MonthlyIncome -> Attrition)\n",
    "X = sm.add_constant(data[['MonthlyIncome']])\n",
    "model = sm.Logit(y_bin, X).fit(disp=False)\n",
    "print()\n",
    "print(model.summary2().tables[1])\n",
    "odds_ratio = np.exp(model.params)\n",
    "print(\"\\nOdds ratios:\")\n",
    "print(odds_ratio.round(4))\n",
    "plt.figure(figsize=(10,5))\n",
    "sns.kdeplot(data=data, x='MonthlyIncome', hue='Attrition', fill=True)\n",
    "plt.title('MonthlyIncome distribution by Attrition')\n",
    "plt.tight_layout()\n",
    "plt.show()\n",
    "\n"
   ]
  },
  {
   "cell_type": "markdown",
   "id": "3dea9433",
   "metadata": {},
   "source": [
    "- Here Attrition Line show Monthly Income has More role in the Attrition .\n",
    "\n",
    "- Who's Monthly income is less then the 10,000 Are left the company."
   ]
  },
  {
   "cell_type": "markdown",
   "id": "d3aa217d",
   "metadata": {},
   "source": [
    "__Conclusion :-__ \n"
   ]
  },
  {
   "cell_type": "markdown",
   "id": "ea686b40",
   "metadata": {},
   "source": [
    "- Main factor will be salary in the attrition, many employees have very less salary .\n",
    "\n",
    "- if they got hike in their Salary percentage and perk , Then the Attrition can be less .\n",
    "\n",
    "- Many employees leave the company around the age of 30.\n",
    "\n",
    "- If the company involved the employee in their specific role which they work without any Workload then there Will be chance of attrition can be less."
   ]
  }
 ],
 "metadata": {
  "kernelspec": {
   "display_name": "Python 3",
   "language": "python",
   "name": "python3"
  },
  "language_info": {
   "codemirror_mode": {
    "name": "ipython",
    "version": 3
   },
   "file_extension": ".py",
   "mimetype": "text/x-python",
   "name": "python",
   "nbconvert_exporter": "python",
   "pygments_lexer": "ipython3",
   "version": "3.12.3"
  }
 },
 "nbformat": 4,
 "nbformat_minor": 5
}
